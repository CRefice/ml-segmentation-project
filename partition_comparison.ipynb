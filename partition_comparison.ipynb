{
 "cells": [
  {
   "cell_type": "markdown",
   "metadata": {},
   "source": [
    "# Partition comparison"
   ]
  },
  {
   "cell_type": "code",
   "execution_count": 1,
   "metadata": {},
   "outputs": [],
   "source": [
    "from collections import defaultdict"
   ]
  },
  {
   "cell_type": "code",
   "execution_count": 9,
   "metadata": {},
   "outputs": [],
   "source": [
    "# Creates graph, G=(V,E), from two partitions, one and two. A partition is a set of sets,\n",
    "# where the inner set are the indices of the names.\n",
    "# In order to create the graph in linear complexity, we do these steps:\n",
    "#    - We create a mapping from every indice to their respective Vertex id\n",
    "#    - We use this mapping to create the edges efficiently\n",
    "def create_graph(one, two):\n",
    "    E = set()\n",
    "    V, mapping = create_mapping(one, two)\n",
    "    \n",
    "    for idx, vertices in mapping.items():\n",
    "        E.add(frozenset(vertices))\n",
    "    \n",
    "    return V, E\n",
    "\n",
    "def create_mapping(one, two):\n",
    "    V = dict()\n",
    "    mapping = defaultdict(set)\n",
    "    vertex_id = 0\n",
    "    \n",
    "    all_groups = list(one)\n",
    "    all_groups.extend(list(two))\n",
    "    \n",
    "    for group in all_groups:\n",
    "        V[vertex_id] = group\n",
    "        \n",
    "        for idx in group:\n",
    "            mapping[idx].add(vertex_id)\n",
    "        vertex_id += 1\n",
    "    \n",
    "    return V, mapping\n",
    "\n",
    "# Compares two partitions, one and two, outputs number in [0,1]. A partition is a set of sets.\n",
    "# The comparison is a Jaccard index generalized to a full image.\n",
    "# LaTeX: C(G) = \\frac{1}{|U|}\\Sum^{|E|}_{(A,B)\\in E} \\frac{|A\\cap B|^2}{|A\\cup B|}\n",
    "# Normalization: because C(G) \\in [\\frac{1}{|U|}, 1], \n",
    "# C'(G) = (C(G) - \\frac{1}{|U|})\\cdot \\frac{|U|}{(|U|-1)}\n",
    "def compare(one, two):\n",
    "    U = sum([len(x) for x in one])\n",
    "    V, E = create_graph(one, two)\n",
    "    prob = 0\n",
    "    \n",
    "    for A, B in E:\n",
    "        A = set(V[A])\n",
    "        B = set(V[B])\n",
    "        prob += (len(A.intersection(B)) ** 2)/(len(A.union(B)))\n",
    "    \n",
    "    # normalize\n",
    "    prob /= U\n",
    "    # normalize to [0,1]\n",
    "    prob -= 1/U\n",
    "    prob *= U/(U-1)\n",
    "    return prob"
   ]
  }
 ],
 "metadata": {
  "kernelspec": {
   "display_name": "Python 3",
   "language": "python",
   "name": "python3"
  },
  "language_info": {
   "codemirror_mode": {
    "name": "ipython",
    "version": 3
   },
   "file_extension": ".py",
   "mimetype": "text/x-python",
   "name": "python",
   "nbconvert_exporter": "python",
   "pygments_lexer": "ipython3",
   "version": "3.6.9"
  }
 },
 "nbformat": 4,
 "nbformat_minor": 4
}
