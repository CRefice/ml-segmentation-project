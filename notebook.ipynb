{
  "nbformat": 4,
  "nbformat_minor": 0,
  "metadata": {
    "accelerator": "GPU",
    "colab": {
      "name": "notebook.ipynb",
      "provenance": []
    },
    "kernelspec": {
      "display_name": "Python 3",
      "language": "python",
      "name": "python3"
    },
    "language_info": {
      "codemirror_mode": {
        "name": "ipython",
        "version": 3
      },
      "file_extension": ".py",
      "mimetype": "text/x-python",
      "name": "python",
      "nbconvert_exporter": "python",
      "pygments_lexer": "ipython3",
      "version": "3.6.9"
    }
  },
  "cells": [
    {
      "cell_type": "markdown",
      "metadata": {
        "id": "oCR6PDZSqs1y"
      },
      "source": [
        "# Environment setup"
      ]
    },
    {
      "cell_type": "markdown",
      "metadata": {
        "id": "KAOZIX9npx5L"
      },
      "source": [
        "## Download code and data\n"
      ]
    },
    {
      "cell_type": "code",
      "metadata": {
        "colab": {
          "base_uri": "https://localhost:8080/"
        },
        "id": "SWV22Epo_fzz",
        "outputId": "b36055a4-3924-4741-e6bd-c93031286311"
      },
      "source": [
        "!pip install imagecodecs tifffile"
      ],
      "execution_count": 1,
      "outputs": [
        {
          "output_type": "stream",
          "text": [
            "Collecting imagecodecs\n",
            "\u001b[?25l  Downloading https://files.pythonhosted.org/packages/95/d0/09edd29531c81bb95919a687c14eafaf9867fdefabfdafc27b139434a394/imagecodecs-2020.5.30-cp36-cp36m-manylinux2014_x86_64.whl (17.9MB)\n",
            "\u001b[K     |████████████████████████████████| 17.9MB 204kB/s \n",
            "\u001b[?25hRequirement already satisfied: tifffile in /usr/local/lib/python3.6/dist-packages (2020.9.3)\n",
            "Requirement already satisfied: numpy>=1.15.1 in /usr/local/lib/python3.6/dist-packages (from imagecodecs) (1.18.5)\n",
            "Installing collected packages: imagecodecs\n",
            "Successfully installed imagecodecs-2020.5.30\n"
          ],
          "name": "stdout"
        }
      ]
    },
    {
      "cell_type": "code",
      "metadata": {
        "colab": {
          "base_uri": "https://localhost:8080/"
        },
        "id": "0LBe8ZWupwjK",
        "outputId": "36e5eab2-95fe-4793-bd49-55a76d88fc01"
      },
      "source": [
        "# Clone the GitHub repository and cd into it\n",
        "!git clone 'https://github.com/CRefice/ml-segmentation-project.git'\n",
        "%cd ml-segmentation-project/"
      ],
      "execution_count": 2,
      "outputs": [
        {
          "output_type": "stream",
          "text": [
            "Cloning into 'ml-segmentation-project'...\n",
            "remote: Enumerating objects: 138, done.\u001b[K\n",
            "remote: Counting objects: 100% (138/138), done.\u001b[K\n",
            "remote: Compressing objects: 100% (108/108), done.\u001b[K\n",
            "remote: Total 138 (delta 74), reused 69 (delta 29), pack-reused 0\u001b[K\n",
            "Receiving objects: 100% (138/138), 1.14 MiB | 1.31 MiB/s, done.\n",
            "Resolving deltas: 100% (74/74), done.\n",
            "/content/ml-segmentation-project\n"
          ],
          "name": "stdout"
        }
      ]
    },
    {
      "cell_type": "code",
      "metadata": {
        "colab": {
          "base_uri": "https://localhost:8080/"
        },
        "id": "T78y96E5qF85",
        "outputId": "686a930d-2990-4cf5-f644-e8c2a5161f7f"
      },
      "source": [
        "# Download the data using the fetch script\n",
        "!./fetch-data.sh"
      ],
      "execution_count": 3,
      "outputs": [
        {
          "output_type": "stream",
          "text": [
            "  % Total    % Received % Xferd  Average Speed   Time    Time     Time  Current\n",
            "                                 Dload  Upload   Total   Spent    Left  Speed\n",
            "100 72.8M  100 72.8M    0     0  4578k      0  0:00:16  0:00:16 --:--:-- 9899k\n"
          ],
          "name": "stdout"
        }
      ]
    },
    {
      "cell_type": "markdown",
      "metadata": {
        "id": "2P9kMsieqnhI"
      },
      "source": [
        "## Useful imports and settings"
      ]
    },
    {
      "cell_type": "code",
      "metadata": {
        "id": "ZAnrppYwpg0S"
      },
      "source": [
        "%matplotlib inline\n",
        "%load_ext autoreload\n",
        "%autoreload 2\n",
        "\n",
        "from pathlib import Path\n",
        "from torch.utils.data import DataLoader\n",
        "from torchsummary import summary\n",
        "from torchvision import transforms, datasets, models\n",
        "import copy\n",
        "import matplotlib.pyplot as plt\n",
        "import numpy as np\n",
        "from scipy.ndimage.morphology import binary_dilation\n",
        "import os,sys\n",
        "import pandas as pd\n",
        "import time\n",
        "import torch\n",
        "import torch.nn as nn\n",
        "import torch.nn.functional as F\n",
        "import torch.utils.data as data\n",
        "\n",
        "import unet\n",
        "from dataset import CellSegmentationDataset\n",
        "\n",
        "\n",
        "device = torch.device('cuda' if torch.cuda.is_available() else 'cpu')"
      ],
      "execution_count": 4,
      "outputs": []
    },
    {
      "cell_type": "markdown",
      "metadata": {
        "id": "_3WiQd_0sDV4"
      },
      "source": [
        "# Data importing and massaging"
      ]
    },
    {
      "cell_type": "markdown",
      "metadata": {
        "id": "8ro5ektxs8sq"
      },
      "source": [
        "Now we import the dataset and create train/test splitters."
      ]
    },
    {
      "cell_type": "code",
      "metadata": {
        "id": "qIAq0erRreZ-"
      },
      "source": [
        "BATCH_SIZE = 2\n",
        "TRAIN_PERCENT = 0.8\n",
        "CLASS_NUMBER = 3\n",
        "\n",
        "img_transforms = transforms.Compose([\n",
        "      # Convert to 0-1 float\n",
        "      transforms.Lambda(lambda img: (img.astype(np.float32) - np.min(img)) / (np.max(img) - np.min(img))),  \n",
        "      transforms.ToTensor(),\n",
        "      transforms.CenterCrop(1024),\n",
        "])\n",
        "\n",
        "target_transforms = transforms.Compose([\n",
        "      transforms.Lambda(lambda img: img.astype(np.float32)),\n",
        "      transforms.ToTensor(),\n",
        "      # Limit to 0-1 for foreground-background segmentation\n",
        "      transforms.Lambda(lambda img: img.clamp(max=1.0)),\n",
        "      transforms.CenterCrop(1024),\n",
        "])\n",
        "\n",
        "target_bound_transforms = transforms.Compose([\n",
        "      transforms.Lambda(lambda img: img.astype(np.float32)),\n",
        "      transforms.ToTensor(),\n",
        "      # Limit to 0-1 for foreground-background segmentation\n",
        "      transforms.Lambda(lambda img: img.clamp(max=1.0)),\n",
        "      transforms.Lambda(lambda img: img + binary_dilation(img)),\n",
        "      transforms.CenterCrop(1024),\n",
        "])\n",
        "\n",
        "full_dataset = CellSegmentationDataset(raw_img_dir=Path(\"dataset/rawimages\"),\n",
        "                                  ground_truth_dir=Path(\"dataset/groundtruth\"),\n",
        "                                  pattern=\"Neuroblastoma\",\n",
        "                                  transform=img_transforms,\n",
        "                                  target_transform=target_bound_transforms,\n",
        "                                )\n",
        "\n",
        "train_size = int(len(full_dataset) * TRAIN_PERCENT)\n",
        "test_size = len(full_dataset) - train_size\n",
        "\n",
        "train_dataset, val_dataset = data.random_split(full_dataset, [train_size, test_size])\n",
        "\n",
        "train_loader = DataLoader(train_dataset, batch_size=BATCH_SIZE, shuffle=True, num_workers=0)\n",
        "val_loader = DataLoader(val_dataset, batch_size=BATCH_SIZE, shuffle=True, num_workers=0)"
      ],
      "execution_count": 5,
      "outputs": []
    },
    {
      "cell_type": "markdown",
      "metadata": {
        "id": "r6d9eebEuWdh"
      },
      "source": [
        "# Training"
      ]
    },
    {
      "cell_type": "code",
      "metadata": {
        "id": "p04AOeCPpg0z"
      },
      "source": [
        "model = unet.UNet(out_channels=CLASS_NUMBER).to(device)"
      ],
      "execution_count": 6,
      "outputs": []
    },
    {
      "cell_type": "code",
      "metadata": {
        "colab": {
          "base_uri": "https://localhost:8080/"
        },
        "id": "KUkSKef5C1SX",
        "scrolled": true,
        "outputId": "414772df-f5de-4bd6-ae36-68c78469d361"
      },
      "source": [
        "summary(model, input_size=(1, 1024, 1024))"
      ],
      "execution_count": 7,
      "outputs": [
        {
          "output_type": "stream",
          "text": [
            "----------------------------------------------------------------\n",
            "        Layer (type)               Output Shape         Param #\n",
            "================================================================\n",
            "            Conv2d-1       [-1, 64, 1024, 1024]             640\n",
            "              ReLU-2       [-1, 64, 1024, 1024]               0\n",
            "            Conv2d-3       [-1, 64, 1024, 1024]          36,928\n",
            "              ReLU-4       [-1, 64, 1024, 1024]               0\n",
            "         MaxPool2d-5         [-1, 64, 512, 512]               0\n",
            "            Conv2d-6        [-1, 128, 512, 512]          73,856\n",
            "              ReLU-7        [-1, 128, 512, 512]               0\n",
            "            Conv2d-8        [-1, 128, 512, 512]         147,584\n",
            "              ReLU-9        [-1, 128, 512, 512]               0\n",
            "        MaxPool2d-10        [-1, 128, 256, 256]               0\n",
            "           Conv2d-11        [-1, 256, 256, 256]         295,168\n",
            "             ReLU-12        [-1, 256, 256, 256]               0\n",
            "           Conv2d-13        [-1, 256, 256, 256]         590,080\n",
            "             ReLU-14        [-1, 256, 256, 256]               0\n",
            "        MaxPool2d-15        [-1, 256, 128, 128]               0\n",
            "           Conv2d-16        [-1, 512, 128, 128]       1,180,160\n",
            "             ReLU-17        [-1, 512, 128, 128]               0\n",
            "           Conv2d-18        [-1, 512, 128, 128]       2,359,808\n",
            "             ReLU-19        [-1, 512, 128, 128]               0\n",
            "        MaxPool2d-20          [-1, 512, 64, 64]               0\n",
            "           Conv2d-21         [-1, 1024, 64, 64]       4,719,616\n",
            "             ReLU-22         [-1, 1024, 64, 64]               0\n",
            "           Conv2d-23         [-1, 1024, 64, 64]       9,438,208\n",
            "             ReLU-24         [-1, 1024, 64, 64]               0\n",
            "  ConvTranspose2d-25        [-1, 512, 128, 128]       2,097,664\n",
            "           Conv2d-26        [-1, 512, 128, 128]       4,719,104\n",
            "             ReLU-27        [-1, 512, 128, 128]               0\n",
            "           Conv2d-28        [-1, 512, 128, 128]       2,359,808\n",
            "             ReLU-29        [-1, 512, 128, 128]               0\n",
            "  ConvTranspose2d-30        [-1, 256, 256, 256]         524,544\n",
            "           Conv2d-31        [-1, 256, 256, 256]       1,179,904\n",
            "             ReLU-32        [-1, 256, 256, 256]               0\n",
            "           Conv2d-33        [-1, 256, 256, 256]         590,080\n",
            "             ReLU-34        [-1, 256, 256, 256]               0\n",
            "  ConvTranspose2d-35        [-1, 128, 512, 512]         131,200\n",
            "           Conv2d-36        [-1, 128, 512, 512]         295,040\n",
            "             ReLU-37        [-1, 128, 512, 512]               0\n",
            "           Conv2d-38        [-1, 128, 512, 512]         147,584\n",
            "             ReLU-39        [-1, 128, 512, 512]               0\n",
            "  ConvTranspose2d-40       [-1, 64, 1024, 1024]          32,832\n",
            "           Conv2d-41       [-1, 64, 1024, 1024]          73,792\n",
            "             ReLU-42       [-1, 64, 1024, 1024]               0\n",
            "           Conv2d-43       [-1, 64, 1024, 1024]          36,928\n",
            "             ReLU-44       [-1, 64, 1024, 1024]               0\n",
            "           Conv2d-45        [-1, 3, 1024, 1024]             195\n",
            "================================================================\n",
            "Total params: 31,030,723\n",
            "Trainable params: 31,030,723\n",
            "Non-trainable params: 0\n",
            "----------------------------------------------------------------\n",
            "Input size (MB): 4.00\n",
            "Forward/backward pass size (MB): 9032.00\n",
            "Params size (MB): 118.37\n",
            "Estimated Total Size (MB): 9154.37\n",
            "----------------------------------------------------------------\n"
          ],
          "name": "stdout"
        }
      ]
    },
    {
      "cell_type": "markdown",
      "metadata": {
        "id": "9aNhpfoDlHgO"
      },
      "source": [
        "We first define the evaluation functions we'll be using during training."
      ]
    },
    {
      "cell_type": "code",
      "metadata": {
        "id": "q6hlfXxLyUsR"
      },
      "source": [
        "def combined_loss(output, label, criterion, bce_weight=.5):\n",
        "  CE_loss = criterion(output, label)\n",
        "  dice = dice_loss(output, label)\n",
        "  comb_loss = dice * bce_weight + CE_loss (1 - bce_weight)\n",
        "  return comb_loss"
      ],
      "execution_count": 1,
      "outputs": []
    },
    {
      "cell_type": "code",
      "metadata": {
        "id": "ffjpnjf4jIp8"
      },
      "source": [
        "def dice_loss(output, label, smooth = 1.):\n",
        "    output = F.softmax(output, dim=1)\n",
        "    output = output.contiguous()\n",
        "    label = label.contiguous()    \n",
        "\n",
        "    intersection = (output * label).sum(dim=2).sum(dim=2)\n",
        "    \n",
        "    loss = (1 - ((2. * intersection + smooth) / (output.sum(dim=2).sum(dim=2) + label.sum(dim=2).sum(dim=2) + smooth)))\n",
        "    \n",
        "    return loss.mean()"
      ],
      "execution_count": 9,
      "outputs": []
    },
    {
      "cell_type": "code",
      "metadata": {
        "id": "2VpcB2hFlNBT"
      },
      "source": [
        "def evaluate(model, loader):\n",
        "    n_val = len(loader)\n",
        "    tot = 0\n",
        "    for image, labels in loader:\n",
        "        with torch.no_grad():\n",
        "            pred = model(image.to(device))\n",
        "            tot += dice_loss(pred, labels.to(device))\n",
        "    return tot / n_val"
      ],
      "execution_count": 10,
      "outputs": []
    },
    {
      "cell_type": "code",
      "metadata": {
        "id": "bqXvYAoopg08"
      },
      "source": [
        "def train_model(model, optimizer, criterion, scheduler, num_epochs=25):\n",
        "    best_model_wts = copy.deepcopy(model.state_dict())\n",
        "    best_loss = float(\"inf\")\n",
        "\n",
        "    for epoch in range(num_epochs):\n",
        "        since = time.time()\n",
        "\n",
        "        print('Epoch {}/{}'.format(epoch+1, num_epochs))\n",
        "        print('-' * 10)\n",
        "        # Training phase\n",
        "        model.train()\n",
        "\n",
        "        epoch_loss = 0\n",
        "        epoch_dice_loss = 0\n",
        "        epoch_samples = len(train_loader)\n",
        "            \n",
        "        torch.cuda.empty_cache()\n",
        "        for inputs, labels in train_loader:\n",
        "            inputs = inputs.to(device)\n",
        "            labels = labels.to(device)              \n",
        "            # zero the parameter gradients\n",
        "            optimizer.zero_grad()   \n",
        "            outputs = model(inputs)\n",
        "            loss = combined_loss(outputs, labels, criterion)\n",
        "            loss.backward()\n",
        "            optimizer.step()    \n",
        "            epoch_loss += loss.item()\n",
        "            epoch_dice_loss += dice_loss(outputs, labels).item()\n",
        "\n",
        "        #scheduler.step()\n",
        "        \n",
        "        print(\"Epoch train loss: {}\".format(epoch_loss / epoch_samples))\n",
        "        print(\"Epoch dice loss: {}\".format(epoch_dice_loss / epoch_samples))\n",
        "\n",
        "        # Evaluation phase\n",
        "        model.eval()\n",
        "        val_loss = evaluate(model, val_loader)\n",
        "        if val_loss < best_loss:\n",
        "            best_model_wts = copy.deepcopy(model.state_dict())\n",
        "\n",
        "        print(\"Epoch validation loss: {}\".format(val_loss))\n",
        "\n",
        "        time_elapsed = time.time() - since\n",
        "        print('Took {:.0f}m {:.0f}s\\n'.format(time_elapsed // 60, time_elapsed % 60))\n",
        "\n",
        "    model.load_state_dict(best_model_wts)\n",
        "    return model"
      ],
      "execution_count": 11,
      "outputs": []
    },
    {
      "cell_type": "code",
      "metadata": {
        "id": "TBHZ9bjBpg1C",
        "colab": {
          "base_uri": "https://localhost:8080/",
          "height": 1000
        },
        "outputId": "00723d20-bb01-478b-8758-4b7d9fe57634"
      },
      "source": [
        "TRN_EPOCHS = 20\n",
        "WEIGHT_DECAY = 0\n",
        "LEARNING_RATE = 0.001\n",
        "MOMENTUM = 0.99\n",
        "\n",
        "torch.cuda.empty_cache()\n",
        "# Observe that all parameters are being optimized\n",
        "optimizer = torch.optim.Adam(model.parameters(), lr=LEARNING_RATE, weight_decay=WEIGHT_DECAY)\n",
        "criterion = nn.CrossEntropyLoss()\n",
        "# criterion = nn.BCEWithLogitsLoss()\n",
        "# Maybe interesting to use later\n",
        "exp_lr_scheduler = torch.optim.lr_scheduler.StepLR(optimizer, step_size=25, gamma=0.1)\n",
        "\n",
        "model = train_model(model, optimizer, criterion, exp_lr_scheduler, num_epochs=TRN_EPOCHS)"
      ],
      "execution_count": 12,
      "outputs": [
        {
          "output_type": "stream",
          "text": [
            "Epoch 1/20\n",
            "----------\n"
          ],
          "name": "stdout"
        },
        {
          "output_type": "error",
          "ename": "RuntimeError",
          "evalue": "ignored",
          "traceback": [
            "\u001b[0;31m---------------------------------------------------------------------------\u001b[0m",
            "\u001b[0;31mRuntimeError\u001b[0m                              Traceback (most recent call last)",
            "\u001b[0;32m<ipython-input-12-5b021fcbf3fb>\u001b[0m in \u001b[0;36m<module>\u001b[0;34m()\u001b[0m\n\u001b[1;32m     12\u001b[0m \u001b[0mexp_lr_scheduler\u001b[0m \u001b[0;34m=\u001b[0m \u001b[0mtorch\u001b[0m\u001b[0;34m.\u001b[0m\u001b[0moptim\u001b[0m\u001b[0;34m.\u001b[0m\u001b[0mlr_scheduler\u001b[0m\u001b[0;34m.\u001b[0m\u001b[0mStepLR\u001b[0m\u001b[0;34m(\u001b[0m\u001b[0moptimizer\u001b[0m\u001b[0;34m,\u001b[0m \u001b[0mstep_size\u001b[0m\u001b[0;34m=\u001b[0m\u001b[0;36m25\u001b[0m\u001b[0;34m,\u001b[0m \u001b[0mgamma\u001b[0m\u001b[0;34m=\u001b[0m\u001b[0;36m0.1\u001b[0m\u001b[0;34m)\u001b[0m\u001b[0;34m\u001b[0m\u001b[0;34m\u001b[0m\u001b[0m\n\u001b[1;32m     13\u001b[0m \u001b[0;34m\u001b[0m\u001b[0m\n\u001b[0;32m---> 14\u001b[0;31m \u001b[0mmodel\u001b[0m \u001b[0;34m=\u001b[0m \u001b[0mtrain_model\u001b[0m\u001b[0;34m(\u001b[0m\u001b[0mmodel\u001b[0m\u001b[0;34m,\u001b[0m \u001b[0moptimizer\u001b[0m\u001b[0;34m,\u001b[0m \u001b[0mcriterion\u001b[0m\u001b[0;34m,\u001b[0m \u001b[0mexp_lr_scheduler\u001b[0m\u001b[0;34m,\u001b[0m \u001b[0mnum_epochs\u001b[0m\u001b[0;34m=\u001b[0m\u001b[0mTRN_EPOCHS\u001b[0m\u001b[0;34m)\u001b[0m\u001b[0;34m\u001b[0m\u001b[0;34m\u001b[0m\u001b[0m\n\u001b[0m",
            "\u001b[0;32m<ipython-input-11-7542b825f605>\u001b[0m in \u001b[0;36mtrain_model\u001b[0;34m(model, optimizer, criterion, scheduler, num_epochs)\u001b[0m\n\u001b[1;32m     22\u001b[0m             \u001b[0moptimizer\u001b[0m\u001b[0;34m.\u001b[0m\u001b[0mzero_grad\u001b[0m\u001b[0;34m(\u001b[0m\u001b[0;34m)\u001b[0m\u001b[0;34m\u001b[0m\u001b[0;34m\u001b[0m\u001b[0m\n\u001b[1;32m     23\u001b[0m             \u001b[0moutputs\u001b[0m \u001b[0;34m=\u001b[0m \u001b[0mmodel\u001b[0m\u001b[0;34m(\u001b[0m\u001b[0minputs\u001b[0m\u001b[0;34m)\u001b[0m\u001b[0;34m\u001b[0m\u001b[0;34m\u001b[0m\u001b[0m\n\u001b[0;32m---> 24\u001b[0;31m             \u001b[0mloss\u001b[0m \u001b[0;34m=\u001b[0m \u001b[0mcombined_loss\u001b[0m\u001b[0;34m(\u001b[0m\u001b[0moutputs\u001b[0m\u001b[0;34m,\u001b[0m \u001b[0mlabels\u001b[0m\u001b[0;34m,\u001b[0m \u001b[0mcriterion\u001b[0m\u001b[0;34m)\u001b[0m\u001b[0;34m\u001b[0m\u001b[0;34m\u001b[0m\u001b[0m\n\u001b[0m\u001b[1;32m     25\u001b[0m             \u001b[0mloss\u001b[0m\u001b[0;34m.\u001b[0m\u001b[0mbackward\u001b[0m\u001b[0;34m(\u001b[0m\u001b[0;34m)\u001b[0m\u001b[0;34m\u001b[0m\u001b[0;34m\u001b[0m\u001b[0m\n\u001b[1;32m     26\u001b[0m             \u001b[0moptimizer\u001b[0m\u001b[0;34m.\u001b[0m\u001b[0mstep\u001b[0m\u001b[0;34m(\u001b[0m\u001b[0;34m)\u001b[0m\u001b[0;34m\u001b[0m\u001b[0;34m\u001b[0m\u001b[0m\n",
            "\u001b[0;32m<ipython-input-8-dd2be16b0c88>\u001b[0m in \u001b[0;36mcombined_loss\u001b[0;34m(output, label, criterion, bce_weight)\u001b[0m\n\u001b[1;32m      1\u001b[0m \u001b[0;32mdef\u001b[0m \u001b[0mcombined_loss\u001b[0m\u001b[0;34m(\u001b[0m\u001b[0moutput\u001b[0m\u001b[0;34m,\u001b[0m \u001b[0mlabel\u001b[0m\u001b[0;34m,\u001b[0m \u001b[0mcriterion\u001b[0m\u001b[0;34m,\u001b[0m \u001b[0mbce_weight\u001b[0m\u001b[0;34m=\u001b[0m\u001b[0;36m.5\u001b[0m\u001b[0;34m)\u001b[0m\u001b[0;34m:\u001b[0m\u001b[0;34m\u001b[0m\u001b[0;34m\u001b[0m\u001b[0m\n\u001b[0;32m----> 2\u001b[0;31m   \u001b[0mCE_loss\u001b[0m \u001b[0;34m=\u001b[0m \u001b[0mcriterion\u001b[0m\u001b[0;34m(\u001b[0m\u001b[0moutput\u001b[0m\u001b[0;34m.\u001b[0m\u001b[0mlong\u001b[0m\u001b[0;34m(\u001b[0m\u001b[0;34m)\u001b[0m\u001b[0;34m,\u001b[0m \u001b[0mlabel\u001b[0m\u001b[0;34m)\u001b[0m\u001b[0;34m\u001b[0m\u001b[0;34m\u001b[0m\u001b[0m\n\u001b[0m\u001b[1;32m      3\u001b[0m   \u001b[0mdice\u001b[0m \u001b[0;34m=\u001b[0m \u001b[0mdice_loss\u001b[0m\u001b[0;34m(\u001b[0m\u001b[0moutput\u001b[0m\u001b[0;34m,\u001b[0m \u001b[0mlabel\u001b[0m\u001b[0;34m)\u001b[0m\u001b[0;34m\u001b[0m\u001b[0;34m\u001b[0m\u001b[0m\n\u001b[1;32m      4\u001b[0m   \u001b[0mcomb_loss\u001b[0m \u001b[0;34m=\u001b[0m \u001b[0mdice\u001b[0m \u001b[0;34m*\u001b[0m \u001b[0mbce_weight\u001b[0m \u001b[0;34m+\u001b[0m \u001b[0mCE_loss\u001b[0m \u001b[0;34m(\u001b[0m\u001b[0;36m1\u001b[0m \u001b[0;34m-\u001b[0m \u001b[0mbce_weight\u001b[0m\u001b[0;34m)\u001b[0m\u001b[0;34m\u001b[0m\u001b[0;34m\u001b[0m\u001b[0m\n\u001b[1;32m      5\u001b[0m   \u001b[0;32mreturn\u001b[0m \u001b[0mcomb_loss\u001b[0m\u001b[0;34m\u001b[0m\u001b[0;34m\u001b[0m\u001b[0m\n",
            "\u001b[0;32m/usr/local/lib/python3.6/dist-packages/torch/nn/modules/module.py\u001b[0m in \u001b[0;36m_call_impl\u001b[0;34m(self, *input, **kwargs)\u001b[0m\n\u001b[1;32m    725\u001b[0m             \u001b[0mresult\u001b[0m \u001b[0;34m=\u001b[0m \u001b[0mself\u001b[0m\u001b[0;34m.\u001b[0m\u001b[0m_slow_forward\u001b[0m\u001b[0;34m(\u001b[0m\u001b[0;34m*\u001b[0m\u001b[0minput\u001b[0m\u001b[0;34m,\u001b[0m \u001b[0;34m**\u001b[0m\u001b[0mkwargs\u001b[0m\u001b[0;34m)\u001b[0m\u001b[0;34m\u001b[0m\u001b[0;34m\u001b[0m\u001b[0m\n\u001b[1;32m    726\u001b[0m         \u001b[0;32melse\u001b[0m\u001b[0;34m:\u001b[0m\u001b[0;34m\u001b[0m\u001b[0;34m\u001b[0m\u001b[0m\n\u001b[0;32m--> 727\u001b[0;31m             \u001b[0mresult\u001b[0m \u001b[0;34m=\u001b[0m \u001b[0mself\u001b[0m\u001b[0;34m.\u001b[0m\u001b[0mforward\u001b[0m\u001b[0;34m(\u001b[0m\u001b[0;34m*\u001b[0m\u001b[0minput\u001b[0m\u001b[0;34m,\u001b[0m \u001b[0;34m**\u001b[0m\u001b[0mkwargs\u001b[0m\u001b[0;34m)\u001b[0m\u001b[0;34m\u001b[0m\u001b[0;34m\u001b[0m\u001b[0m\n\u001b[0m\u001b[1;32m    728\u001b[0m         for hook in itertools.chain(\n\u001b[1;32m    729\u001b[0m                 \u001b[0m_global_forward_hooks\u001b[0m\u001b[0;34m.\u001b[0m\u001b[0mvalues\u001b[0m\u001b[0;34m(\u001b[0m\u001b[0;34m)\u001b[0m\u001b[0;34m,\u001b[0m\u001b[0;34m\u001b[0m\u001b[0;34m\u001b[0m\u001b[0m\n",
            "\u001b[0;32m/usr/local/lib/python3.6/dist-packages/torch/nn/modules/loss.py\u001b[0m in \u001b[0;36mforward\u001b[0;34m(self, input, target)\u001b[0m\n\u001b[1;32m    960\u001b[0m     \u001b[0;32mdef\u001b[0m \u001b[0mforward\u001b[0m\u001b[0;34m(\u001b[0m\u001b[0mself\u001b[0m\u001b[0;34m,\u001b[0m \u001b[0minput\u001b[0m\u001b[0;34m:\u001b[0m \u001b[0mTensor\u001b[0m\u001b[0;34m,\u001b[0m \u001b[0mtarget\u001b[0m\u001b[0;34m:\u001b[0m \u001b[0mTensor\u001b[0m\u001b[0;34m)\u001b[0m \u001b[0;34m->\u001b[0m \u001b[0mTensor\u001b[0m\u001b[0;34m:\u001b[0m\u001b[0;34m\u001b[0m\u001b[0;34m\u001b[0m\u001b[0m\n\u001b[1;32m    961\u001b[0m         return F.cross_entropy(input, target, weight=self.weight,\n\u001b[0;32m--> 962\u001b[0;31m                                ignore_index=self.ignore_index, reduction=self.reduction)\n\u001b[0m\u001b[1;32m    963\u001b[0m \u001b[0;34m\u001b[0m\u001b[0m\n\u001b[1;32m    964\u001b[0m \u001b[0;34m\u001b[0m\u001b[0m\n",
            "\u001b[0;32m/usr/local/lib/python3.6/dist-packages/torch/nn/functional.py\u001b[0m in \u001b[0;36mcross_entropy\u001b[0;34m(input, target, weight, size_average, ignore_index, reduce, reduction)\u001b[0m\n\u001b[1;32m   2466\u001b[0m     \u001b[0;32mif\u001b[0m \u001b[0msize_average\u001b[0m \u001b[0;32mis\u001b[0m \u001b[0;32mnot\u001b[0m \u001b[0;32mNone\u001b[0m \u001b[0;32mor\u001b[0m \u001b[0mreduce\u001b[0m \u001b[0;32mis\u001b[0m \u001b[0;32mnot\u001b[0m \u001b[0;32mNone\u001b[0m\u001b[0;34m:\u001b[0m\u001b[0;34m\u001b[0m\u001b[0;34m\u001b[0m\u001b[0m\n\u001b[1;32m   2467\u001b[0m         \u001b[0mreduction\u001b[0m \u001b[0;34m=\u001b[0m \u001b[0m_Reduction\u001b[0m\u001b[0;34m.\u001b[0m\u001b[0mlegacy_get_string\u001b[0m\u001b[0;34m(\u001b[0m\u001b[0msize_average\u001b[0m\u001b[0;34m,\u001b[0m \u001b[0mreduce\u001b[0m\u001b[0;34m)\u001b[0m\u001b[0;34m\u001b[0m\u001b[0;34m\u001b[0m\u001b[0m\n\u001b[0;32m-> 2468\u001b[0;31m     \u001b[0;32mreturn\u001b[0m \u001b[0mnll_loss\u001b[0m\u001b[0;34m(\u001b[0m\u001b[0mlog_softmax\u001b[0m\u001b[0;34m(\u001b[0m\u001b[0minput\u001b[0m\u001b[0;34m,\u001b[0m \u001b[0;36m1\u001b[0m\u001b[0;34m)\u001b[0m\u001b[0;34m,\u001b[0m \u001b[0mtarget\u001b[0m\u001b[0;34m,\u001b[0m \u001b[0mweight\u001b[0m\u001b[0;34m,\u001b[0m \u001b[0;32mNone\u001b[0m\u001b[0;34m,\u001b[0m \u001b[0mignore_index\u001b[0m\u001b[0;34m,\u001b[0m \u001b[0;32mNone\u001b[0m\u001b[0;34m,\u001b[0m \u001b[0mreduction\u001b[0m\u001b[0;34m)\u001b[0m\u001b[0;34m\u001b[0m\u001b[0;34m\u001b[0m\u001b[0m\n\u001b[0m\u001b[1;32m   2469\u001b[0m \u001b[0;34m\u001b[0m\u001b[0m\n\u001b[1;32m   2470\u001b[0m \u001b[0;34m\u001b[0m\u001b[0m\n",
            "\u001b[0;32m/usr/local/lib/python3.6/dist-packages/torch/nn/functional.py\u001b[0m in \u001b[0;36mlog_softmax\u001b[0;34m(input, dim, _stacklevel, dtype)\u001b[0m\n\u001b[1;32m   1603\u001b[0m         \u001b[0mdim\u001b[0m \u001b[0;34m=\u001b[0m \u001b[0m_get_softmax_dim\u001b[0m\u001b[0;34m(\u001b[0m\u001b[0;34m'log_softmax'\u001b[0m\u001b[0;34m,\u001b[0m \u001b[0minput\u001b[0m\u001b[0;34m.\u001b[0m\u001b[0mdim\u001b[0m\u001b[0;34m(\u001b[0m\u001b[0;34m)\u001b[0m\u001b[0;34m,\u001b[0m \u001b[0m_stacklevel\u001b[0m\u001b[0;34m)\u001b[0m\u001b[0;34m\u001b[0m\u001b[0;34m\u001b[0m\u001b[0m\n\u001b[1;32m   1604\u001b[0m     \u001b[0;32mif\u001b[0m \u001b[0mdtype\u001b[0m \u001b[0;32mis\u001b[0m \u001b[0;32mNone\u001b[0m\u001b[0;34m:\u001b[0m\u001b[0;34m\u001b[0m\u001b[0;34m\u001b[0m\u001b[0m\n\u001b[0;32m-> 1605\u001b[0;31m         \u001b[0mret\u001b[0m \u001b[0;34m=\u001b[0m \u001b[0minput\u001b[0m\u001b[0;34m.\u001b[0m\u001b[0mlog_softmax\u001b[0m\u001b[0;34m(\u001b[0m\u001b[0mdim\u001b[0m\u001b[0;34m)\u001b[0m\u001b[0;34m\u001b[0m\u001b[0;34m\u001b[0m\u001b[0m\n\u001b[0m\u001b[1;32m   1606\u001b[0m     \u001b[0;32melse\u001b[0m\u001b[0;34m:\u001b[0m\u001b[0;34m\u001b[0m\u001b[0;34m\u001b[0m\u001b[0m\n\u001b[1;32m   1607\u001b[0m         \u001b[0mret\u001b[0m \u001b[0;34m=\u001b[0m \u001b[0minput\u001b[0m\u001b[0;34m.\u001b[0m\u001b[0mlog_softmax\u001b[0m\u001b[0;34m(\u001b[0m\u001b[0mdim\u001b[0m\u001b[0;34m,\u001b[0m \u001b[0mdtype\u001b[0m\u001b[0;34m=\u001b[0m\u001b[0mdtype\u001b[0m\u001b[0;34m)\u001b[0m\u001b[0;34m\u001b[0m\u001b[0;34m\u001b[0m\u001b[0m\n",
            "\u001b[0;31mRuntimeError\u001b[0m: CUDA out of memory. Tried to allocate 48.00 MiB (GPU 0; 7.43 GiB total capacity; 6.71 GiB already allocated; 24.94 MiB free; 6.77 GiB reserved in total by PyTorch)"
          ]
        }
      ]
    },
    {
      "cell_type": "markdown",
      "metadata": {
        "id": "h_dZI3VDqFp8"
      },
      "source": [
        "# Generating predictions"
      ]
    },
    {
      "cell_type": "markdown",
      "metadata": {
        "id": "InpcsFBerI0t"
      },
      "source": [
        "We now generate predictions for one batch of data and compare it to the ground truth."
      ]
    },
    {
      "cell_type": "code",
      "metadata": {
        "id": "x-ujgopgrNRK"
      },
      "source": [
        "inputs, labels = next(iter(val_loader))\n",
        "with torch.no_grad():\n",
        "    outputs = model.predict(inputs.to(device))\n",
        "    outputs = F.softmax(outputs, dim=1)"
      ],
      "execution_count": null,
      "outputs": []
    },
    {
      "cell_type": "code",
      "metadata": {
        "id": "3DljbFU_qPWM"
      },
      "source": [
        "plt.gray()\n",
        "count = len(inputs)\n",
        "fig = plt.figure(figsize=(6 * 3, 6 * count))\n",
        "axs = fig.subplots(count, 3)\n",
        "\n",
        "for ax in axs.flat:\n",
        "    ax.axis(\"off\")\n",
        "\n",
        "column_labels = [\"Input image\", \"Ground truth\", \"Generated prediction\"]\n",
        "for ax, label in zip(axs[0], column_labels):\n",
        "    ax.set_title(label)\n",
        "\n",
        "for i in range(count):\n",
        "    axs[i, 0].imshow(inputs[i].cpu().squeeze())\n",
        "    axs[i, 1].imshow(labels[i].cpu().squeeze())\n",
        "    axs[i, 2].imshow(outputs[i].cpu().squeeze())\n",
        "\n",
        "fig.show()"
      ],
      "execution_count": null,
      "outputs": []
    },
    {
      "cell_type": "code",
      "metadata": {
        "id": "fu0ZgZBETxwW"
      },
      "source": [
        "image = labels[0,:,:,:].numpy().squeeze()"
      ],
      "execution_count": null,
      "outputs": []
    },
    {
      "cell_type": "code",
      "metadata": {
        "id": "_87EndJiZRlj"
      },
      "source": [
        "np.unique(image + scipy.ndimage.morphology.binary_dilation(image))"
      ],
      "execution_count": null,
      "outputs": []
    },
    {
      "cell_type": "code",
      "metadata": {
        "id": "rttfR0jZVtVk"
      },
      "source": [
        "final = image + scipy.ndimage.morphology.binary_dilation(image)\n",
        "final_bound = final\n",
        "final_bound[final_bound==2] = 0\n",
        "final_no_bound = final\n",
        "final_no_bound[final_no_bound==1] = 0\n",
        "final_no_bound[final_no_bound==2] = 1"
      ],
      "execution_count": null,
      "outputs": []
    },
    {
      "cell_type": "code",
      "metadata": {
        "id": "CuXfF_HpRIoR"
      },
      "source": [
        "edges = image - scipy.ndimage.morphology.binary_dilation(image)\n",
        "edges[edges==-1] = 1"
      ],
      "execution_count": null,
      "outputs": []
    },
    {
      "cell_type": "code",
      "metadata": {
        "id": "lFCyjKFDUTkS"
      },
      "source": [
        "dilation = scipy.ndimage.morphology.binary_dilation(image)"
      ],
      "execution_count": null,
      "outputs": []
    },
    {
      "cell_type": "code",
      "metadata": {
        "id": "tdhg3Ah9UuOZ"
      },
      "source": [
        "plt.gray()\n",
        "count = len(inputs)\n",
        "fig = plt.figure(figsize=(6 * 3, 6 * count))\n",
        "axs = fig.subplots(count, 3)\n",
        "\n",
        "for ax in axs.flat:\n",
        "    ax.axis(\"off\")\n",
        "\n",
        "column_labels = [\"Input image\", \"Ground truth\", \"Generated prediction\"]\n",
        "for ax, label in zip(axs[0], column_labels):\n",
        "    ax.set_title(label)\n",
        "\n",
        "for i in range(count):\n",
        "    axs[i, 0].imshow(final)\n",
        "    axs[i, 1].imshow(final_no_bound)\n",
        "    axs[i, 2].imshow(final_bound)\n",
        "\n",
        "fig.show()"
      ],
      "execution_count": null,
      "outputs": []
    },
    {
      "cell_type": "code",
      "metadata": {
        "id": "ca29LJEOJTsh"
      },
      "source": [
        "from sklearn.metrics import jaccard_similarity_score as jsc\n",
        "print(jsc(target,lbl))"
      ],
      "execution_count": null,
      "outputs": []
    }
  ]
}