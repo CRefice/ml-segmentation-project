{
  "nbformat": 4,
  "nbformat_minor": 0,
  "metadata": {
    "kernelspec": {
      "display_name": "Python 3",
      "language": "python",
      "name": "python3"
    },
    "language_info": {
      "codemirror_mode": {
        "name": "ipython",
        "version": 3
      },
      "file_extension": ".py",
      "mimetype": "text/x-python",
      "name": "python",
      "nbconvert_exporter": "python",
      "pygments_lexer": "ipython3",
      "version": "3.6.9"
    },
    "colab": {
      "name": "notebook.ipynb",
      "provenance": []
    },
    "accelerator": "GPU"
  },
  "cells": [
    {
      "cell_type": "markdown",
      "metadata": {
        "id": "oCR6PDZSqs1y"
      },
      "source": [
        "# Environment setup"
      ]
    },
    {
      "cell_type": "markdown",
      "metadata": {
        "id": "KAOZIX9npx5L"
      },
      "source": [
        "## Download code and data\n"
      ]
    },
    {
      "cell_type": "code",
      "metadata": {
        "id": "SWV22Epo_fzz",
        "outputId": "27af1f0e-bca5-4a38-aef3-04f0cf73813a",
        "colab": {
          "base_uri": "https://localhost:8080/"
        }
      },
      "source": [
        "!pip install imagecodecs tifffile"
      ],
      "execution_count": 1,
      "outputs": [
        {
          "output_type": "stream",
          "text": [
            "Collecting imagecodecs\n",
            "\u001b[?25l  Downloading https://files.pythonhosted.org/packages/95/d0/09edd29531c81bb95919a687c14eafaf9867fdefabfdafc27b139434a394/imagecodecs-2020.5.30-cp36-cp36m-manylinux2014_x86_64.whl (17.9MB)\n",
            "\u001b[K     |████████████████████████████████| 17.9MB 199kB/s \n",
            "\u001b[?25hRequirement already satisfied: tifffile in /usr/local/lib/python3.6/dist-packages (2020.9.3)\n",
            "Requirement already satisfied: numpy>=1.15.1 in /usr/local/lib/python3.6/dist-packages (from imagecodecs) (1.18.5)\n",
            "Installing collected packages: imagecodecs\n",
            "Successfully installed imagecodecs-2020.5.30\n"
          ],
          "name": "stdout"
        }
      ]
    },
    {
      "cell_type": "code",
      "metadata": {
        "id": "0LBe8ZWupwjK",
        "colab": {
          "base_uri": "https://localhost:8080/"
        },
        "outputId": "72afbbe8-ca89-449d-80ce-d492b52e6ffc"
      },
      "source": [
        "# Clone the GitHub repository and cd into it\n",
        "!git clone 'https://github.com/CRefice/ml-segmentation-project.git'\n",
        "%cd ml-segmentation-project/"
      ],
      "execution_count": 2,
      "outputs": [
        {
          "output_type": "stream",
          "text": [
            "Cloning into 'ml-segmentation-project'...\n",
            "remote: Enumerating objects: 58, done.\u001b[K\n",
            "remote: Counting objects: 100% (58/58), done.\u001b[K\n",
            "remote: Compressing objects: 100% (42/42), done.\u001b[K\n",
            "remote: Total 58 (delta 30), reused 36 (delta 15), pack-reused 0\u001b[K\n",
            "Unpacking objects: 100% (58/58), done.\n",
            "/content/ml-segmentation-project\n"
          ],
          "name": "stdout"
        }
      ]
    },
    {
      "cell_type": "code",
      "metadata": {
        "id": "T78y96E5qF85",
        "colab": {
          "base_uri": "https://localhost:8080/"
        },
        "outputId": "8c6b71fb-d094-4eea-f830-9475741c6c1b"
      },
      "source": [
        "# Download the data using the fetch script\n",
        "!./fetch-data.sh"
      ],
      "execution_count": 3,
      "outputs": [
        {
          "output_type": "stream",
          "text": [
            "  % Total    % Received % Xferd  Average Speed   Time    Time     Time  Current\n",
            "                                 Dload  Upload   Total   Spent    Left  Speed\n",
            "100 72.8M  100 72.8M    0     0  5767k      0  0:00:12  0:00:12 --:--:-- 11.5M\n"
          ],
          "name": "stdout"
        }
      ]
    },
    {
      "cell_type": "markdown",
      "metadata": {
        "id": "2P9kMsieqnhI"
      },
      "source": [
        "## Useful imports and settings"
      ]
    },
    {
      "cell_type": "code",
      "metadata": {
        "id": "ZAnrppYwpg0S"
      },
      "source": [
        "%matplotlib inline\n",
        "%load_ext autoreload\n",
        "%autoreload 2\n",
        "\n",
        "from pathlib import Path\n",
        "from torch.utils.data import DataLoader\n",
        "from torchsummary import summary\n",
        "from torchvision import transforms, datasets, models\n",
        "import copy\n",
        "import matplotlib.pyplot as plt\n",
        "import numpy as np\n",
        "import os,sys\n",
        "import pandas as pd\n",
        "import time\n",
        "import torch\n",
        "import torch.nn as nn\n",
        "import torch.nn.functional as F\n",
        "\n",
        "import unet\n",
        "from dataset import CellSegmentationDataset\n",
        "\n",
        "\n",
        "device = torch.device('cuda' if torch.cuda.is_available() else 'cpu')"
      ],
      "execution_count": 4,
      "outputs": []
    },
    {
      "cell_type": "markdown",
      "metadata": {
        "id": "_3WiQd_0sDV4"
      },
      "source": [
        "# Data importing and massaging"
      ]
    },
    {
      "cell_type": "markdown",
      "metadata": {
        "id": "8ro5ektxs8sq"
      },
      "source": [
        "Now we import the dataset and create train/test splitters."
      ]
    },
    {
      "cell_type": "code",
      "metadata": {
        "id": "qIAq0erRreZ-"
      },
      "source": [
        "BATCH_SIZE = 16\n",
        "TRAIN_SIZE = 2000\n",
        "\n",
        "img_transforms = transforms.Compose([\n",
        "      # Convert to 0-1 float\n",
        "      transforms.Lambda(lambda img: img.astype(np.float32) / np.iinfo(img.dtype).max), \n",
        "      transforms.ToTensor(),\n",
        "      transforms.CenterCrop(572),\n",
        "])\n",
        "target_transforms = transforms.Compose([\n",
        "      transforms.Lambda(lambda img: img.astype(np.float32)),\n",
        "      transforms.ToTensor(),\n",
        "      # Limit to 0-1 for foreground-background segmentation\n",
        "      transforms.Lambda(lambda img: img.clamp(max=1.0)),\n",
        "      transforms.CenterCrop(572),\n",
        "])\n",
        "\n",
        "dataset = CellSegmentationDataset(raw_img_dir=Path(\"dataset/rawimages\"),\n",
        "                                  ground_truth_dir=Path(\"dataset/groundtruth\"),\n",
        "                                  pattern=\"Neuroblastoma\",\n",
        "                                  transform=img_transforms,\n",
        "                                  target_transform=target_transforms,\n",
        "                                )\n",
        "\n",
        "train_loader = DataLoader(dataset, batch_size=BATCH_SIZE, shuffle=False, num_workers=0)"
      ],
      "execution_count": 79,
      "outputs": []
    },
    {
      "cell_type": "code",
      "metadata": {
        "id": "ymLfF-WSN1JF",
        "outputId": "325a487f-b766-43ca-c5b8-1fd326332124",
        "colab": {
          "base_uri": "https://localhost:8080/",
          "height": 222
        }
      },
      "source": [
        "plt.gray()\n",
        "f, axes = plt.subplots(1, 2)\n",
        "image, segm = dataset[1]\n",
        "axes[0].imshow(image.permute(1, 2, 0).squeeze())\n",
        "axes[1].imshow(segm.permute(1, 2, 0).squeeze())\n",
        "plt.show()"
      ],
      "execution_count": 84,
      "outputs": [
        {
          "output_type": "display_data",
          "data": {
            "text/plain": [
              "<Figure size 432x288 with 0 Axes>"
            ]
          },
          "metadata": {
            "tags": []
          }
        },
        {
          "output_type": "display_data",
          "data": {
            "image/png": "[encoded data removed]",
            "text/plain": [
              "<Figure size 432x288 with 2 Axes>"
            ]
          },
          "metadata": {
            "tags": [],
            "needs_background": "light"
          }
        }
      ]
    },
    {
      "cell_type": "markdown",
      "metadata": {
        "id": "r6d9eebEuWdh"
      },
      "source": [
        "# Training"
      ]
    },
    {
      "cell_type": "code",
      "metadata": {
        "id": "p04AOeCPpg0z"
      },
      "source": [
        "model = unet.UNet().to(device)"
      ],
      "execution_count": 47,
      "outputs": []
    },
    {
      "cell_type": "code",
      "metadata": {
        "id": "KUkSKef5C1SX",
        "outputId": "6fa5f179-e2fd-4c82-f912-137da637a8a6",
        "colab": {
          "base_uri": "https://localhost:8080/"
        }
      },
      "source": [
        "summary(model, input_size=(1, 572, 572))"
      ],
      "execution_count": 48,
      "outputs": [
        {
          "output_type": "stream",
          "text": [
            "<built-in method size of Tensor object at 0x7f963f0733f0>\n",
            "torch.Size([2, 2, 388, 388])\n",
            "----------------------------------------------------------------\n",
            "        Layer (type)               Output Shape         Param #\n",
            "================================================================\n",
            "            Conv2d-1         [-1, 64, 570, 570]             640\n",
            "              ReLU-2         [-1, 64, 570, 570]               0\n",
            "            Conv2d-3         [-1, 64, 568, 568]          36,928\n",
            "              ReLU-4         [-1, 64, 568, 568]               0\n",
            "         MaxPool2d-5         [-1, 64, 284, 284]               0\n",
            "            Conv2d-6        [-1, 128, 282, 282]          73,856\n",
            "              ReLU-7        [-1, 128, 282, 282]               0\n",
            "            Conv2d-8        [-1, 128, 280, 280]         147,584\n",
            "              ReLU-9        [-1, 128, 280, 280]               0\n",
            "        MaxPool2d-10        [-1, 128, 140, 140]               0\n",
            "           Conv2d-11        [-1, 256, 138, 138]         295,168\n",
            "             ReLU-12        [-1, 256, 138, 138]               0\n",
            "           Conv2d-13        [-1, 256, 136, 136]         590,080\n",
            "             ReLU-14        [-1, 256, 136, 136]               0\n",
            "        MaxPool2d-15          [-1, 256, 68, 68]               0\n",
            "           Conv2d-16          [-1, 512, 66, 66]       1,180,160\n",
            "             ReLU-17          [-1, 512, 66, 66]               0\n",
            "           Conv2d-18          [-1, 512, 64, 64]       2,359,808\n",
            "             ReLU-19          [-1, 512, 64, 64]               0\n",
            "        MaxPool2d-20          [-1, 512, 32, 32]               0\n",
            "           Conv2d-21         [-1, 1024, 30, 30]       4,719,616\n",
            "             ReLU-22         [-1, 1024, 30, 30]               0\n",
            "           Conv2d-23         [-1, 1024, 28, 28]       9,438,208\n",
            "             ReLU-24         [-1, 1024, 28, 28]               0\n",
            "  ConvTranspose2d-25          [-1, 512, 56, 56]       2,097,664\n",
            "           Conv2d-26          [-1, 512, 54, 54]       4,719,104\n",
            "             ReLU-27          [-1, 512, 54, 54]               0\n",
            "           Conv2d-28          [-1, 512, 52, 52]       2,359,808\n",
            "             ReLU-29          [-1, 512, 52, 52]               0\n",
            "  ConvTranspose2d-30        [-1, 256, 104, 104]         524,544\n",
            "           Conv2d-31        [-1, 256, 102, 102]       1,179,904\n",
            "             ReLU-32        [-1, 256, 102, 102]               0\n",
            "           Conv2d-33        [-1, 256, 100, 100]         590,080\n",
            "             ReLU-34        [-1, 256, 100, 100]               0\n",
            "  ConvTranspose2d-35        [-1, 128, 200, 200]         131,200\n",
            "           Conv2d-36        [-1, 128, 198, 198]         295,040\n",
            "             ReLU-37        [-1, 128, 198, 198]               0\n",
            "           Conv2d-38        [-1, 128, 196, 196]         147,584\n",
            "             ReLU-39        [-1, 128, 196, 196]               0\n",
            "  ConvTranspose2d-40         [-1, 64, 392, 392]          32,832\n",
            "           Conv2d-41         [-1, 64, 390, 390]          73,792\n",
            "             ReLU-42         [-1, 64, 390, 390]               0\n",
            "           Conv2d-43         [-1, 64, 388, 388]          36,928\n",
            "             ReLU-44         [-1, 64, 388, 388]               0\n",
            "           Conv2d-45          [-1, 2, 388, 388]             130\n",
            "================================================================\n",
            "Total params: 31,030,658\n",
            "Trainable params: 31,030,658\n",
            "Non-trainable params: 0\n",
            "----------------------------------------------------------------\n",
            "Input size (MB): 1.25\n",
            "Forward/backward pass size (MB): 1971.86\n",
            "Params size (MB): 118.37\n",
            "Estimated Total Size (MB): 2091.48\n",
            "----------------------------------------------------------------\n"
          ],
          "name": "stdout"
        }
      ]
    },
    {
      "cell_type": "code",
      "metadata": {
        "id": "bqXvYAoopg08"
      },
      "source": [
        "TRN_EPOCHS = 10\n",
        "WEIGHT_DECAY = 1e-4\n",
        "LEARNING_RATE = 0.01\n",
        "MOMENTUM = 0.99\n",
        "\n",
        "def train_model(model, optimizer, criterion, scheduler, num_epochs=25):\n",
        "    best_model_wts = copy.deepcopy(model.state_dict())\n",
        "    best_loss = 10e3\n",
        "\n",
        "    for epoch in range(num_epochs):\n",
        "        print('Epoch {}/{}'.format(epoch, num_epochs - 1))\n",
        "        print('-' * 10)\n",
        "        \n",
        "        since = time.time()\n",
        "\n",
        "        # Each epoch has a training and validation phase\n",
        "        for phase in ['train', 'val']:\n",
        "            \n",
        "            epoch_loss = []\n",
        "            \n",
        "            if phase == 'train':\n",
        "#                 scheduler.step()\n",
        "                model.train()  # Set model to training mode\n",
        "            else:\n",
        "                model.eval()   # Set model to evaluate mode\n",
        "\n",
        "            epoch_samples = 0\n",
        "            \n",
        "            for inputs, labels in dataloaders[phase]:\n",
        "                inputs = inputs.to(device)\n",
        "                labels = labels.to(device)             \n",
        "\n",
        "                # zero the parameter gradients\n",
        "                optimizer.zero_grad()\n",
        "\n",
        "                # forward\n",
        "                # track history if only in train\n",
        "                with torch.set_grad_enabled(phase == 'train'):\n",
        "                    outputs = model(inputs)\n",
        "                    loss = criterion(outputs, labels)\n",
        "\n",
        "                    # backward + optimize only if in training phase\n",
        "                    if phase == 'train':\n",
        "                        loss.backward()\n",
        "                        optimizer.step()\n",
        "                                      \n",
        "                epoch_loss.append(loss)\n",
        "            \n",
        "            print(\"Epoch {} loss: {}\".format(phase, np.mean(epoch_loss)))\n",
        "                \n",
        "            # deep copy the model\n",
        "            if phase == 'val' and epoch_loss < best_loss:\n",
        "                print(\"saving best model\")\n",
        "                best_loss = epoch_loss\n",
        "                best_model_wts = copy.deepcopy(model.state_dict())\n",
        "\n",
        "        time_elapsed = time.time() - since\n",
        "        print('{:.0f}m {:.0f}s'.format(time_elapsed // 60, time_elapsed % 60))\n",
        "    print('Best val loss: {:4f}'.format(best_loss))\n",
        "\n",
        "    # load best model weights\n",
        "    model.load_state_dict(best_model_wts)\n",
        "    return model"
      ],
      "execution_count": null,
      "outputs": []
    },
    {
      "cell_type": "code",
      "metadata": {
        "id": "TBHZ9bjBpg1C"
      },
      "source": [
        "device = torch.device(\"cuda:0\" if torch.cuda.is_available() else \"cpu\")\n",
        "print(device)\n",
        "\n",
        "\n",
        "model = unet.UNet()\n",
        "\n",
        "# Observe that all parameters are being optimized\n",
        "optimizer = torch.optim.SGD(model.parameters(), lr = LEARNING_RATE, momentum=MOMENTUM)\n",
        "criterion = nn.CrossEntropyLoss()\n",
        "\n",
        "# Maybe interesting to use later\n",
        "exp_lr_scheduler = torch.optim.lr_scheduler.StepLR(optimizer, step_size=25, gamma=0.1)\n",
        "\n",
        "model = train_model(model, optimizer_ft, criterion, exp_lr_scheduler, num_epochs=TRN_EPOCHS)"
      ],
      "execution_count": null,
      "outputs": []
    }
  ]
}