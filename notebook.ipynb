{
  "nbformat": 4,
  "nbformat_minor": 0,
  "metadata": {
    "accelerator": "GPU",
    "colab": {
      "name": "notebook.ipynb",
      "provenance": []
    },
    "kernelspec": {
      "display_name": "Python 3",
      "language": "python",
      "name": "python3"
    },
    "language_info": {
      "codemirror_mode": {
        "name": "ipython",
        "version": 3
      },
      "file_extension": ".py",
      "mimetype": "text/x-python",
      "name": "python",
      "nbconvert_exporter": "python",
      "pygments_lexer": "ipython3",
      "version": "3.6.9"
    }
  },
  "cells": [
    {
      "cell_type": "markdown",
      "metadata": {
        "id": "oCR6PDZSqs1y"
      },
      "source": [
        "# Environment setup"
      ]
    },
    {
      "cell_type": "markdown",
      "metadata": {
        "id": "KAOZIX9npx5L"
      },
      "source": [
        "## Download code and data\n"
      ]
    },
    {
      "cell_type": "code",
      "metadata": {
        "colab": {
          "base_uri": "https://localhost:8080/"
        },
        "id": "SWV22Epo_fzz",
        "outputId": "610f0654-818b-49e8-e073-ac16d0f94a7e"
      },
      "source": [
        "!pip install imagecodecs tifffile"
      ],
      "execution_count": null,
      "outputs": [
        {
          "output_type": "stream",
          "text": [
            "Collecting imagecodecs\n",
            "\u001b[?25l  Downloading https://files.pythonhosted.org/packages/95/d0/09edd29531c81bb95919a687c14eafaf9867fdefabfdafc27b139434a394/imagecodecs-2020.5.30-cp36-cp36m-manylinux2014_x86_64.whl (17.9MB)\n",
            "\u001b[K     |████████████████████████████████| 17.9MB 209kB/s \n",
            "\u001b[?25hRequirement already satisfied: tifffile in /usr/local/lib/python3.6/dist-packages (2020.9.3)\n",
            "Requirement already satisfied: numpy>=1.15.1 in /usr/local/lib/python3.6/dist-packages (from imagecodecs) (1.18.5)\n",
            "Installing collected packages: imagecodecs\n",
            "Successfully installed imagecodecs-2020.5.30\n"
          ],
          "name": "stdout"
        }
      ]
    },
    {
      "cell_type": "code",
      "metadata": {
        "colab": {
          "base_uri": "https://localhost:8080/"
        },
        "id": "0LBe8ZWupwjK",
        "outputId": "c2b307c4-e1cf-4837-affc-1bd81a9a4e0f"
      },
      "source": [
        "# Clone the GitHub repository and cd into it\n",
        "!git clone 'https://github.com/CRefice/ml-segmentation-project.git'\n",
        "%cd ml-segmentation-project/"
      ],
      "execution_count": null,
      "outputs": [
        {
          "output_type": "stream",
          "text": [
            "Cloning into 'ml-segmentation-project'...\n",
            "remote: Enumerating objects: 72, done.\u001b[K\n",
            "remote: Counting objects: 100% (72/72), done.\u001b[K\n",
            "remote: Compressing objects: 100% (53/53), done.\u001b[K\n",
            "remote: Total 72 (delta 40), reused 43 (delta 18), pack-reused 0\u001b[K\n",
            "Unpacking objects: 100% (72/72), done.\n",
            "/content/ml-segmentation-project\n"
          ],
          "name": "stdout"
        }
      ]
    },
    {
      "cell_type": "code",
      "metadata": {
        "colab": {
          "base_uri": "https://localhost:8080/"
        },
        "id": "T78y96E5qF85",
        "outputId": "079b20b4-c4bc-47f6-cfd4-68f7cb0e7830"
      },
      "source": [
        "# Download the data using the fetch script\n",
        "!./fetch-data.sh"
      ],
      "execution_count": null,
      "outputs": [
        {
          "output_type": "stream",
          "text": [
            "  % Total    % Received % Xferd  Average Speed   Time    Time     Time  Current\n",
            "                                 Dload  Upload   Total   Spent    Left  Speed\n",
            "100 72.8M  100 72.8M    0     0  5896k      0  0:00:12  0:00:12 --:--:-- 6583k\n"
          ],
          "name": "stdout"
        }
      ]
    },
    {
      "cell_type": "markdown",
      "metadata": {
        "id": "2P9kMsieqnhI"
      },
      "source": [
        "## Useful imports and settings"
      ]
    },
    {
      "cell_type": "code",
      "metadata": {
        "id": "ZAnrppYwpg0S"
      },
      "source": [
        "%matplotlib inline\n",
        "%load_ext autoreload\n",
        "%autoreload 2\n",
        "\n",
        "from pathlib import Path\n",
        "from torch.utils.data import DataLoader\n",
        "from torchsummary import summary\n",
        "from torchvision import transforms, datasets, models\n",
        "import copy\n",
        "import matplotlib.pyplot as plt\n",
        "import numpy as np\n",
        "import os,sys\n",
        "import pandas as pd\n",
        "import time\n",
        "import torch\n",
        "import torch.nn as nn\n",
        "import torch.nn.functional as F\n",
        "\n",
        "import unet\n",
        "from dataset import CellSegmentationDataset\n",
        "\n",
        "\n",
        "device = torch.device('cuda' if torch.cuda.is_available() else 'cpu')"
      ],
      "execution_count": null,
      "outputs": []
    },
    {
      "cell_type": "markdown",
      "metadata": {
        "id": "_3WiQd_0sDV4"
      },
      "source": [
        "# Data importing and massaging"
      ]
    },
    {
      "cell_type": "markdown",
      "metadata": {
        "id": "8ro5ektxs8sq"
      },
      "source": [
        "Now we import the dataset and create train/test splitters."
      ]
    },
    {
      "cell_type": "code",
      "metadata": {
        "id": "qIAq0erRreZ-"
      },
      "source": [
        "BATCH_SIZE = 8\n",
        "TRAIN_SIZE = 2000\n",
        "\n",
        "img_transforms = transforms.Compose([\n",
        "      # Convert to 0-1 float\n",
        "      transforms.Lambda(lambda img: (img.astype(np.float32) - np.min(img)) / (np.max(img) - np.min(img))),  \n",
        "      transforms.ToTensor(),\n",
        "      transforms.CenterCrop(512),\n",
        "])\n",
        "target_transforms = transforms.Compose([\n",
        "      transforms.Lambda(lambda img: img.astype(np.float32)),\n",
        "      transforms.ToTensor(),\n",
        "      # Limit to 0-1 for foreground-background segmentation\n",
        "      transforms.Lambda(lambda img: img.clamp(max=1.0)),\n",
        "      transforms.CenterCrop(512),\n",
        "])\n",
        "\n",
        "dataset = CellSegmentationDataset(raw_img_dir=Path(\"dataset/rawimages\"),\n",
        "                                  ground_truth_dir=Path(\"dataset/groundtruth\"),\n",
        "                                  pattern=\"normal\",\n",
        "                                  transform=img_transforms,\n",
        "                                  target_transform=target_transforms,\n",
        "                                )\n",
        "# Neuroblastoma\n",
        "\n",
        "train_loader = DataLoader(dataset, batch_size=BATCH_SIZE, shuffle=True, num_workers=0)\n",
        "val_loader = DataLoader(dataset, batch_size=BATCH_SIZE, shuffle=True, num_workers=0)\n",
        "\n",
        "dataloaders = {\n",
        "    'train': train_loader,\n",
        "    'val': val_loader\n",
        "}"
      ],
      "execution_count": null,
      "outputs": []
    },
    {
      "cell_type": "code",
      "metadata": {
        "colab": {
          "base_uri": "https://localhost:8080/",
          "height": 221
        },
        "id": "ymLfF-WSN1JF",
        "outputId": "b9df74f1-fea3-40aa-e192-39f629670742"
      },
      "source": [
        "plt.gray()\n",
        "f, axes = plt.subplots(1, 2)\n",
        "image, segm = dataset[1]\n",
        "axes[0].imshow(image.permute(1, 2, 0).squeeze())\n",
        "axes[1].imshow(segm.permute(1, 2, 0).squeeze())\n",
        "plt.show()"
      ],
      "execution_count": null,
      "outputs": [
        {
          "output_type": "display_data",
          "data": {
            "text/plain": [
              "<Figure size 432x288 with 0 Axes>"
            ]
          },
          "metadata": {
            "tags": []
          }
        },
        {
          "output_type": "display_data",
          "data": {
            "image/png": "[encoded data removed]",
            "text/plain": [
              "<Figure size 432x288 with 2 Axes>"
            ]
          },
          "metadata": {
            "tags": [],
            "needs_background": "light"
          }
        }
      ]
    },
    {
      "cell_type": "markdown",
      "metadata": {
        "id": "r6d9eebEuWdh"
      },
      "source": [
        "# Training"
      ]
    },
    {
      "cell_type": "code",
      "metadata": {
        "id": "p04AOeCPpg0z"
      },
      "source": [
        "model = unet.UNet().to(device)"
      ],
      "execution_count": null,
      "outputs": []
    },
    {
      "cell_type": "code",
      "metadata": {
        "colab": {
          "base_uri": "https://localhost:8080/"
        },
        "id": "KUkSKef5C1SX",
        "scrolled": true,
        "outputId": "0404e3df-a4aa-40c9-e4db-9a04e32ae8a2"
      },
      "source": [
        "summary(model, input_size=(1, 512, 512))"
      ],
      "execution_count": null,
      "outputs": [
        {
          "output_type": "stream",
          "text": [
            "----------------------------------------------------------------\n",
            "        Layer (type)               Output Shape         Param #\n",
            "================================================================\n",
            "            Conv2d-1         [-1, 64, 512, 512]             640\n",
            "              ReLU-2         [-1, 64, 512, 512]               0\n",
            "            Conv2d-3         [-1, 64, 512, 512]          36,928\n",
            "              ReLU-4         [-1, 64, 512, 512]               0\n",
            "         MaxPool2d-5         [-1, 64, 256, 256]               0\n",
            "            Conv2d-6        [-1, 128, 256, 256]          73,856\n",
            "              ReLU-7        [-1, 128, 256, 256]               0\n",
            "            Conv2d-8        [-1, 128, 256, 256]         147,584\n",
            "              ReLU-9        [-1, 128, 256, 256]               0\n",
            "        MaxPool2d-10        [-1, 128, 128, 128]               0\n",
            "           Conv2d-11        [-1, 256, 128, 128]         295,168\n",
            "             ReLU-12        [-1, 256, 128, 128]               0\n",
            "           Conv2d-13        [-1, 256, 128, 128]         590,080\n",
            "             ReLU-14        [-1, 256, 128, 128]               0\n",
            "        MaxPool2d-15          [-1, 256, 64, 64]               0\n",
            "           Conv2d-16          [-1, 512, 64, 64]       1,180,160\n",
            "             ReLU-17          [-1, 512, 64, 64]               0\n",
            "           Conv2d-18          [-1, 512, 64, 64]       2,359,808\n",
            "             ReLU-19          [-1, 512, 64, 64]               0\n",
            "        MaxPool2d-20          [-1, 512, 32, 32]               0\n",
            "           Conv2d-21         [-1, 1024, 32, 32]       4,719,616\n",
            "             ReLU-22         [-1, 1024, 32, 32]               0\n",
            "           Conv2d-23         [-1, 1024, 32, 32]       9,438,208\n",
            "             ReLU-24         [-1, 1024, 32, 32]               0\n",
            "  ConvTranspose2d-25          [-1, 512, 64, 64]       2,097,664\n",
            "           Conv2d-26          [-1, 512, 64, 64]       4,719,104\n",
            "             ReLU-27          [-1, 512, 64, 64]               0\n",
            "           Conv2d-28          [-1, 512, 64, 64]       2,359,808\n",
            "             ReLU-29          [-1, 512, 64, 64]               0\n",
            "  ConvTranspose2d-30        [-1, 256, 128, 128]         524,544\n",
            "           Conv2d-31        [-1, 256, 128, 128]       1,179,904\n",
            "             ReLU-32        [-1, 256, 128, 128]               0\n",
            "           Conv2d-33        [-1, 256, 128, 128]         590,080\n",
            "             ReLU-34        [-1, 256, 128, 128]               0\n",
            "  ConvTranspose2d-35        [-1, 128, 256, 256]         131,200\n",
            "           Conv2d-36        [-1, 128, 256, 256]         295,040\n",
            "             ReLU-37        [-1, 128, 256, 256]               0\n",
            "           Conv2d-38        [-1, 128, 256, 256]         147,584\n",
            "             ReLU-39        [-1, 128, 256, 256]               0\n",
            "  ConvTranspose2d-40         [-1, 64, 512, 512]          32,832\n",
            "           Conv2d-41         [-1, 64, 512, 512]          73,792\n",
            "             ReLU-42         [-1, 64, 512, 512]               0\n",
            "           Conv2d-43         [-1, 64, 512, 512]          36,928\n",
            "             ReLU-44         [-1, 64, 512, 512]               0\n",
            "           Conv2d-45          [-1, 1, 512, 512]              65\n",
            "================================================================\n",
            "Total params: 31,030,593\n",
            "Trainable params: 31,030,593\n",
            "Non-trainable params: 0\n",
            "----------------------------------------------------------------\n",
            "Input size (MB): 1.00\n",
            "Forward/backward pass size (MB): 2254.00\n",
            "Params size (MB): 118.37\n",
            "Estimated Total Size (MB): 2373.37\n",
            "----------------------------------------------------------------\n"
          ],
          "name": "stdout"
        }
      ]
    },
    {
      "cell_type": "code",
      "metadata": {
        "id": "ffjpnjf4jIp8"
      },
      "source": [
        "def dice_loss(pred, target, smooth = 1.):\n",
        "    pred = pred.contiguous()\n",
        "    target = target.contiguous()    \n",
        "\n",
        "    intersection = (pred * target).sum(dim=2).sum(dim=2)\n",
        "    \n",
        "    loss = (1 - ((2. * intersection + smooth) / (pred.sum(dim=2).sum(dim=2) + target.sum(dim=2).sum(dim=2) + smooth)))\n",
        "    \n",
        "    return loss.mean()"
      ],
      "execution_count": null,
      "outputs": []
    },
    {
      "cell_type": "code",
      "metadata": {
        "id": "bqXvYAoopg08"
      },
      "source": [
        "TRN_EPOCHS = 10\n",
        "WEIGHT_DECAY = 1e-4\n",
        "LEARNING_RATE = 0.01\n",
        "MOMENTUM = 0.99\n",
        "\n",
        "def train_model(model, optimizer, criterion, scheduler, num_epochs=25):\n",
        "    best_model_wts = copy.deepcopy(model.state_dict())\n",
        "    best_loss = 10e3\n",
        "\n",
        "    for epoch in range(num_epochs):\n",
        "        print('Epoch {}/{}'.format(epoch, num_epochs - 1))\n",
        "        print('-' * 10)\n",
        "        \n",
        "        since = time.time()\n",
        "\n",
        "        # Each epoch has a training and validation phase\n",
        "        for phase in ['train', 'val']:\n",
        "            \n",
        "            epoch_loss = []\n",
        "            dice_list = []\n",
        "            \n",
        "            if phase == 'train':\n",
        "#                 scheduler.step()\n",
        "                model.train()  # Set model to training mode\n",
        "            else:\n",
        "                model.eval()   # Set model to evaluate mode\n",
        "\n",
        "            epoch_samples = 0\n",
        "            \n",
        "            for inputs, labels in dataloaders[phase]:\n",
        "                inputs = inputs.to(device)\n",
        "                labels = labels.to(device)             \n",
        "\n",
        "                # zero the parameter gradients\n",
        "                optimizer.zero_grad()\n",
        "\n",
        "                # forward\n",
        "                # track history if only in train\n",
        "                with torch.set_grad_enabled(phase == 'train'):\n",
        "                    outputs = model(inputs)\n",
        "                    # print(torch.max(outputs), torch.min(outputs))\n",
        "\n",
        "                    loss = criterion(outputs, labels)\n",
        "                    dice = dice_loss(outputs, labels).data.cpu().numpy()\n",
        "                    epoch_loss.append(loss.item())\n",
        "                    dice_list.append(dice)\n",
        "\n",
        "                    # backward + optimize only if in training phase\n",
        "                    if phase == 'train':\n",
        "                        loss.backward()\n",
        "                        optimizer.step()\n",
        "                                      \n",
        "            print(\"Epoch {} loss: {}\".format(phase, np.mean(epoch_loss)))\n",
        "            print(\"Epoch {} dice loss: {}\".format(phase, np.mean(dice_list)))\n",
        "                \n",
        "            # deep copy the model\n",
        "            if phase == 'val' and np.mean(epoch_loss) < best_loss:\n",
        "                print(\"saving best model\")\n",
        "                best_loss = np.mean(epoch_loss)\n",
        "                best_model_wts = copy.deepcopy(model.state_dict())\n",
        "        # torch.cuda.empty_cache()\n",
        "\n",
        "        time_elapsed = time.time() - since\n",
        "        print('{:.0f}m {:.0f}s'.format(time_elapsed // 60, time_elapsed % 60))\n",
        "    print('Best val loss: {:4f}'.format(best_loss))\n",
        "\n",
        "    # load best model weights\n",
        "    model.load_state_dict(best_model_wts)\n",
        "    return model"
      ],
      "execution_count": null,
      "outputs": []
    },
    {
      "cell_type": "code",
      "metadata": {
        "id": "TBHZ9bjBpg1C"
      },
      "source": [
        "# Observe that all parameters are being optimized\n",
        "optimizer = torch.optim.SGD(model.parameters(), lr = LEARNING_RATE, momentum=MOMENTUM)\n",
        "criterion = nn.BCEWithLogitsLoss()\n",
        "\n",
        "# Maybe interesting to use later\n",
        "exp_lr_scheduler = torch.optim.lr_scheduler.StepLR(optimizer, step_size=25, gamma=0.1)"
      ],
      "execution_count": null,
      "outputs": []
    },
    {
      "cell_type": "code",
      "metadata": {
        "id": "mF8toObTiHyu",
        "colab": {
          "base_uri": "https://localhost:8080/"
        },
        "outputId": "2a8e152b-5597-4dbe-d72d-27ae0bf1c98a"
      },
      "source": [
        "model = train_model(model, optimizer, criterion, exp_lr_scheduler, num_epochs=TRN_EPOCHS)"
      ],
      "execution_count": null,
      "outputs": [
        {
          "output_type": "stream",
          "text": [
            "Epoch 0/9\n",
            "----------\n",
            "Epoch train loss: 0.6840944389502207\n",
            "Epoch train dice loss: 1.1300969123840332\n",
            "Epoch val loss: 0.6843669414520264\n",
            "Epoch val dice loss: 1.241355061531067\n",
            "saving best model\n",
            "0m 11s\n",
            "Epoch 1/9\n",
            "----------\n",
            "Epoch train loss: 0.6794354418913523\n",
            "Epoch train dice loss: 1.5118376016616821\n",
            "Epoch val loss: 0.6661621530850729\n",
            "Epoch val dice loss: 1.1450754404067993\n",
            "saving best model\n",
            "0m 11s\n",
            "Epoch 2/9\n",
            "----------\n",
            "Epoch train loss: 0.6738539238770803\n",
            "Epoch train dice loss: 1.2175962924957275\n",
            "Epoch val loss: 0.6503148078918457\n",
            "Epoch val dice loss: 1.155763030052185\n",
            "saving best model\n",
            "0m 11s\n",
            "Epoch 3/9\n",
            "----------\n",
            "Epoch train loss: 0.655855397383372\n",
            "Epoch train dice loss: 2.5382754802703857\n",
            "Epoch val loss: 0.6473286549250284\n",
            "Epoch val dice loss: 1.1732476949691772\n",
            "saving best model\n",
            "0m 11s\n",
            "Epoch 4/9\n",
            "----------\n",
            "Epoch train loss: 0.6409736971060435\n",
            "Epoch train dice loss: 4.756204128265381\n",
            "Epoch val loss: 0.6290009220441183\n",
            "Epoch val dice loss: -12.353450775146484\n",
            "saving best model\n",
            "0m 12s\n",
            "Epoch 5/9\n",
            "----------\n",
            "Epoch train loss: 0.6201918522516886\n",
            "Epoch train dice loss: 4.048825263977051\n",
            "Epoch val loss: 0.5937147637208303\n",
            "Epoch val dice loss: 3.022738218307495\n",
            "saving best model\n",
            "0m 12s\n",
            "Epoch 6/9\n",
            "----------\n",
            "Epoch train loss: 0.5512580772240957\n",
            "Epoch train dice loss: 1.280608892440796\n",
            "Epoch val loss: 0.4381784200668335\n",
            "Epoch val dice loss: 0.8983433842658997\n",
            "saving best model\n",
            "0m 12s\n",
            "Epoch 7/9\n",
            "----------\n",
            "Epoch train loss: 0.3669649412234624\n",
            "Epoch train dice loss: 0.13892145454883575\n",
            "Epoch val loss: 0.21095673243204752\n",
            "Epoch val dice loss: -0.16584062576293945\n",
            "saving best model\n",
            "0m 12s\n",
            "Epoch 8/9\n",
            "----------\n",
            "Epoch train loss: 0.15171668430169424\n",
            "Epoch train dice loss: 0.21972782909870148\n",
            "Epoch val loss: 0.14557000870505968\n",
            "Epoch val dice loss: 2.1806862354278564\n",
            "saving best model\n",
            "0m 12s\n",
            "Epoch 9/9\n",
            "----------\n",
            "Epoch train loss: 0.19668856263160706\n",
            "Epoch train dice loss: 0.5439596772193909\n",
            "Epoch val loss: 0.20285108064611754\n",
            "Epoch val dice loss: 18.51714515686035\n",
            "0m 12s\n",
            "Best val loss: 0.145570\n"
          ],
          "name": "stdout"
        }
      ]
    }
  ]
}